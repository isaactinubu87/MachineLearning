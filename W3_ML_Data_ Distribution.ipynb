{
 "cells": [
  {
   "cell_type": "code",
   "execution_count": 1,
   "metadata": {},
   "outputs": [],
   "source": [
    "# Create an array containing 250 random floats between 0 and 5:"
   ]
  },
  {
   "cell_type": "code",
   "execution_count": 2,
   "metadata": {},
   "outputs": [],
   "source": [
    "import numpy as np"
   ]
  },
  {
   "cell_type": "code",
   "execution_count": 3,
   "metadata": {},
   "outputs": [
    {
     "data": {
      "text/plain": [
       "array([4.8422124 , 0.0647853 , 3.08783731, 1.61958763, 2.03643409,\n",
       "       0.8481664 , 2.49373866, 0.03000497, 0.27197048, 1.68889146,\n",
       "       1.17102027, 0.8592889 , 4.64450239, 2.85264592, 3.1188554 ,\n",
       "       3.25835511, 4.41478486, 3.74527405, 2.83504314, 2.98687072,\n",
       "       3.20234095, 3.06349217, 4.74041858, 3.17764553, 4.89146159,\n",
       "       0.06420176, 2.37025808, 4.60006218, 1.50897546, 4.44194648,\n",
       "       1.8003123 , 3.28379592, 2.21482397, 3.6035351 , 1.2750065 ,\n",
       "       3.52053081, 3.53551404, 2.34952114, 0.58093432, 4.09972483,\n",
       "       0.49404957, 1.22776148, 3.74246356, 2.6177955 , 1.10473895,\n",
       "       4.52767122, 3.11969781, 2.04611305, 0.06770273, 1.19805031,\n",
       "       0.2944101 , 0.0877849 , 3.47177363, 3.7874484 , 0.06612428,\n",
       "       4.05297949, 2.36348784, 2.54158884, 2.94436512, 1.94084521,\n",
       "       4.73534557, 0.62470131, 2.90009503, 1.64366281, 1.05802513,\n",
       "       2.46535425, 0.91200422, 3.83234468, 3.97555374, 3.32172432,\n",
       "       3.03242399, 0.79511339, 4.12819734, 3.47050271, 3.4438097 ,\n",
       "       3.45662699, 4.66595331, 2.02697554, 2.86993129, 0.53479396,\n",
       "       1.1624656 , 0.09763264, 1.58450641, 1.7636899 , 2.88759673,\n",
       "       4.30063228, 0.6144822 , 1.15192711, 1.9258931 , 0.45848298,\n",
       "       4.37097942, 1.5381619 , 1.0424279 , 4.71148618, 0.43996836,\n",
       "       2.94863703, 4.44197981, 1.07144105, 3.80209516, 2.8806026 ,\n",
       "       4.0393627 , 0.06683382, 3.50315225, 3.97172378, 0.15000113,\n",
       "       4.39579706, 0.35245061, 4.36166632, 0.77436688, 2.51567698,\n",
       "       2.03132287, 4.14091184, 3.11356903, 0.02469389, 3.53031692,\n",
       "       2.55227854, 1.59806708, 4.44176924, 2.95184106, 3.78721765,\n",
       "       2.59412221, 1.01171006, 0.71639459, 4.30604377, 3.44234397,\n",
       "       1.23791035, 1.40773966, 2.03675825, 0.47976507, 3.20356   ,\n",
       "       2.53336822, 0.29109906, 0.972874  , 1.59304482, 1.80488936,\n",
       "       3.65245721, 3.08844701, 4.68143957, 0.54881339, 2.07179631,\n",
       "       1.06829833, 2.95978297, 0.69048501, 2.1458321 , 1.45183341,\n",
       "       0.53477327, 0.63724661, 3.38261353, 1.62101511, 4.96063745,\n",
       "       1.82900684, 0.21510018, 0.83485448, 3.28542982, 2.55318661,\n",
       "       4.10336088, 3.45151853, 3.58413244, 1.90971097, 0.18245019,\n",
       "       3.02576747, 2.24485241, 1.4977661 , 2.15341144, 2.10278149,\n",
       "       2.02558494, 1.04681808, 1.53785505, 2.31478141, 3.2233812 ,\n",
       "       2.25417552, 0.38948958, 2.50874005, 2.91183145, 2.14329526,\n",
       "       1.55878134, 4.5901678 , 1.91429558, 0.96574183, 2.05867069,\n",
       "       4.84600664, 3.57547193, 0.93609181, 0.47462869, 3.88501275,\n",
       "       3.25385675, 3.33434288, 0.41889157, 3.80467005, 0.00605158,\n",
       "       2.62861971, 0.72256364, 3.70663759, 4.76636199, 4.06572316,\n",
       "       3.36829042, 2.56605994, 1.01002264, 4.49750806, 0.85139001,\n",
       "       1.68990939, 3.78144376, 2.78538644, 4.18104463, 2.91508381,\n",
       "       0.57418813, 4.68484254, 1.61707088, 4.38118829, 3.48208029,\n",
       "       0.36047708, 4.35318946, 2.08395089, 4.0319851 , 2.67405755,\n",
       "       1.41689631, 1.78347726, 1.9949791 , 2.73730034, 0.82205162,\n",
       "       1.84875825, 0.69248911, 4.59464418, 2.92240212, 3.0860833 ,\n",
       "       4.46431076, 1.52403088, 3.17089685, 0.02655666, 0.84480467,\n",
       "       4.32535244, 2.39848739, 0.47602428, 2.22474975, 3.58667976,\n",
       "       1.79463762, 2.83723973, 0.54576563, 0.59827314, 4.70236228,\n",
       "       0.50638796, 2.5926139 , 4.95984847, 1.53181256, 4.90583349,\n",
       "       0.92183148, 1.05644882, 0.44493984, 0.25453185, 1.55056703])"
      ]
     },
     "execution_count": 3,
     "metadata": {},
     "output_type": "execute_result"
    }
   ],
   "source": [
    "x = np.random.uniform(0.0,5.0,250)\n",
    "x"
   ]
  },
  {
   "cell_type": "markdown",
   "metadata": {},
   "source": [
    "## HISTOGRAM"
   ]
  },
  {
   "cell_type": "code",
   "execution_count": 6,
   "metadata": {},
   "outputs": [],
   "source": [
    "import matplotlib.pyplot as plt\n"
   ]
  },
  {
   "cell_type": "code",
   "execution_count": 12,
   "metadata": {},
   "outputs": [
    {
     "data": {
      "image/png": "[encoded data removed]",
      "text/plain": [
       "<Figure size 432x288 with 1 Axes>"
      ]
     },
     "metadata": {
      "needs_background": "light"
     },
     "output_type": "display_data"
    }
   ],
   "source": [
    "x1 = np.random.uniform(0.0,5.0,250)\n",
    "plt.hist(x1,5)\n",
    "plt.show()"
   ]
  },
  {
   "cell_type": "code",
   "execution_count": 13,
   "metadata": {},
   "outputs": [],
   "source": [
    "# 5 bars plotted, first bar represented how many values in the array are between 0 and 1 etc\n",
    "\n",
    "# Result: 48 values are btw 0 and 1, 44 btw 1 and 2, 50 btw 2 and "
   ]
  },
  {
   "cell_type": "markdown",
   "metadata": {},
   "source": [
    "## Big Data Distributions"
   ]
  },
  {
   "cell_type": "code",
   "execution_count": 9,
   "metadata": {},
   "outputs": [],
   "source": [
    "# An array containing 250 values is not big enouch."
   ]
  },
  {
   "cell_type": "code",
   "execution_count": 17,
   "metadata": {},
   "outputs": [
    {
     "data": {
      "image/png": "[encoded data removed]",
      "text/plain": [
       "<Figure size 432x288 with 1 Axes>"
      ]
     },
     "metadata": {
      "needs_background": "light"
     },
     "output_type": "display_data"
    }
   ],
   "source": [
    "x2 = np.random.uniform(0.0,5.0,100000)\n",
    "plt.hist(x2,100)\n",
    "plt.show()"
   ]
  },
  {
   "cell_type": "markdown",
   "metadata": {},
   "source": [
    "# ML NORMAL DATA DISTRIBUTION"
   ]
  },
  {
   "cell_type": "markdown",
   "metadata": {},
   "source": [
    "Creating an array where the values are concentrated around a given value. \n",
    "Known as Normal Data distribution or the Gaussian data distribution\n"
   ]
  },
  {
   "cell_type": "code",
   "execution_count": 19,
   "metadata": {},
   "outputs": [],
   "source": [
    "# EXAMPLE OF NORMAL DATA DISTRIBUTION"
   ]
  },
  {
   "cell_type": "code",
   "execution_count": 21,
   "metadata": {},
   "outputs": [
    {
     "data": {
      "image/png": "[encoded data removed]",
      "text/plain": [
       "<Figure size 432x288 with 1 Axes>"
      ]
     },
     "metadata": {
      "needs_background": "light"
     },
     "output_type": "display_data"
    }
   ],
   "source": [
    "x3 = np.random.normal(5.0,1.0,100000)\n",
    "plt.hist(x3,100)\n",
    "plt.show()"
   ]
  },
  {
   "cell_type": "code",
   "execution_count": 22,
   "metadata": {},
   "outputs": [],
   "source": [
    "# A normal distribution graph is also known as the bell curve because of it's characteristics shape of a bell"
   ]
  },
  {
   "cell_type": "markdown",
   "metadata": {},
   "source": [
    "numpy.randon.normal method was used, with 100000 values, to draw a histogram with 100 bars.\n",
    "while 5 is the mean value, 1 is the standard deviation.\n",
    "Meaning that the values should be concentrated around 5.0, and rarely further away than 1.0from the mean.\n",
    "As seen, most valueare btw 4.0 and 6.0, with a top at approx. 5.0"
   ]
  },
  {
   "cell_type": "markdown",
   "metadata": {},
   "source": [
    "## Scatter Plot"
   ]
  },
  {
   "cell_type": "code",
   "execution_count": 23,
   "metadata": {},
   "outputs": [],
   "source": [
    "# A scatter plot is a diagram where each value in the data set is represented by a dot\n",
    "\n",
    "#Matplotlib module has a method for it with two axis"
   ]
  },
  {
   "cell_type": "code",
   "execution_count": 24,
   "metadata": {},
   "outputs": [],
   "source": [
    "x = np.array([5,7,8,7,2,17,2,9,4,11,12,9,6])\n",
    "\n",
    "y = np.array([99,86,87,88,111,86,103,87,94,78,77,85,86])\n"
   ]
  },
  {
   "cell_type": "code",
   "execution_count": 25,
   "metadata": {},
   "outputs": [],
   "source": [
    "# x = age of each car,\n",
    "# y = speed of each car"
   ]
  },
  {
   "cell_type": "code",
   "execution_count": 26,
   "metadata": {},
   "outputs": [
    {
     "data": {
      "image/png": "[encoded data removed]",
      "text/plain": [
       "<Figure size 432x288 with 1 Axes>"
      ]
     },
     "metadata": {
      "needs_background": "light"
     },
     "output_type": "display_data"
    }
   ],
   "source": [
    "plt.scatter(x,y)\n",
    "plt.show()"
   ]
  },
  {
   "cell_type": "code",
   "execution_count": 27,
   "metadata": {},
   "outputs": [],
   "source": [
    "# The two fastest car are 2-year old while the slowest car are 12 years"
   ]
  },
  {
   "cell_type": "code",
   "execution_count": 28,
   "metadata": {},
   "outputs": [],
   "source": [
    "#Not conclusion yet but it seems the newer the car the faster it is."
   ]
  },
  {
   "cell_type": "markdown",
   "metadata": {},
   "source": [
    "## RANDOM DATA DISTRIBUTION"
   ]
  },
  {
   "cell_type": "code",
   "execution_count": 29,
   "metadata": {},
   "outputs": [],
   "source": [
    "# To create two arrays with 1000 random numbers,\n",
    "# 1st mean = 5, std = 1\n",
    "#2nd mean = 10, std = 2.0"
   ]
  },
  {
   "cell_type": "code",
   "execution_count": 30,
   "metadata": {},
   "outputs": [],
   "source": [
    "x = np.random.normal(5.0,1.0,1000)\n",
    "y = np.random.normal(10.0,2.0,1000)"
   ]
  },
  {
   "cell_type": "code",
   "execution_count": 31,
   "metadata": {},
   "outputs": [
    {
     "data": {
      "image/png": "[encoded data removed]",
      "text/plain": [
       "<Figure size 432x288 with 1 Axes>"
      ]
     },
     "metadata": {
      "needs_background": "light"
     },
     "output_type": "display_data"
    }
   ],
   "source": [
    "plt.scatter(x,y)\n",
    "plt.show()"
   ]
  },
  {
   "cell_type": "markdown",
   "metadata": {},
   "source": [
    "Scatter Plot Explained\n",
    "\n",
    "As seen, the x,y axis concentration are on 5.0 and 10.0 respectively and the spread is wider on the y- axis than on the x- axis"
   ]
  },
  {
   "cell_type": "code",
   "execution_count": null,
   "metadata": {},
   "outputs": [],
   "source": []
  }
 ],
 "metadata": {
  "kernelspec": {
   "display_name": "Python 3",
   "language": "python",
   "name": "python3"
  },
  "language_info": {
   "codemirror_mode": {
    "name": "ipython",
    "version": 3
   },
   "file_extension": ".py",
   "mimetype": "text/x-python",
   "name": "python",
   "nbconvert_exporter": "python",
   "pygments_lexer": "ipython3",
   "version": "3.7.6"
  }
 },
 "nbformat": 4,
 "nbformat_minor": 4
}
